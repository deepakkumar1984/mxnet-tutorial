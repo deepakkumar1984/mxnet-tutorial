{
 "cells": [
  {
   "cell_type": "markdown",
   "metadata": {},
   "source": [
    "## Getting Stated"
   ]
  },
  {
   "cell_type": "raw",
   "metadata": {},
   "source": [
    "To get started, let’s import mxnet. We’ll also import ndarray from mxnet for convenience. We’ll make a habit of setting a random seed so that you always get the same results that we do."
   ]
  },
  {
   "cell_type": "code",
   "execution_count": 2,
   "metadata": {},
   "outputs": [
    {
     "name": "stderr",
     "output_type": "stream",
     "text": [
      "/usr/local/lib/python2.7/dist-packages/h5py/__init__.py:36: FutureWarning: Conversion of the second argument of issubdtype from `float` to `np.floating` is deprecated. In future, it will be treated as `np.float64 == np.dtype(float).type`.\n",
      "  from ._conv import register_converters as _register_converters\n"
     ]
    }
   ],
   "source": [
    "import mxnet as mx\n",
    "from mxnet import nd\n",
    "mx.random.seed(1)"
   ]
  },
  {
   "cell_type": "raw",
   "metadata": {},
   "source": [
    "Next, let’s see how to create an NDArray, without any values initialized. Specifically, we’ll create a 2D array (also called a matrix) with 3 rows and 4 columns."
   ]
  },
  {
   "cell_type": "code",
   "execution_count": 3,
   "metadata": {},
   "outputs": [
    {
     "name": "stdout",
     "output_type": "stream",
     "text": [
      "\n",
      "[[ 0.0000000e+00  0.0000000e+00 -4.6640310e-35  4.5610864e-41]\n",
      " [ 1.3180995e-38  0.0000000e+00  2.9747829e-02  4.5610864e-41]\n",
      " [-2.6189484e-39  4.5610864e-41 -2.6202936e-39  4.5610864e-41]]\n",
      "<NDArray 3x4 @cpu(0)>\n"
     ]
    }
   ],
   "source": [
    "x = nd.empty((3, 4))\n",
    "print(x)"
   ]
  },
  {
   "cell_type": "raw",
   "metadata": {},
   "source": [
    "The empty method just grabs some memory and hands us back a matrix without setting the values of any of its entries. This means that the entries can have any form of values, including very big ones! But typically, we’ll want our matrices initialized. Commonly, we want a matrix of all zeros."
   ]
  },
  {
   "cell_type": "code",
   "execution_count": 4,
   "metadata": {},
   "outputs": [
    {
     "data": {
      "text/plain": [
       "\n",
       "[[0. 0. 0. 0. 0.]\n",
       " [0. 0. 0. 0. 0.]\n",
       " [0. 0. 0. 0. 0.]]\n",
       "<NDArray 3x5 @cpu(0)>"
      ]
     },
     "execution_count": 4,
     "metadata": {},
     "output_type": "execute_result"
    }
   ],
   "source": [
    "x = nd.zeros((3, 5))\n",
    "x"
   ]
  },
  {
   "cell_type": "raw",
   "metadata": {},
   "source": [
    "Similarly, ndarray has a function to create a matrix of all ones."
   ]
  },
  {
   "cell_type": "code",
   "execution_count": 5,
   "metadata": {},
   "outputs": [
    {
     "data": {
      "text/plain": [
       "\n",
       "[[1. 1. 1. 1.]\n",
       " [1. 1. 1. 1.]\n",
       " [1. 1. 1. 1.]]\n",
       "<NDArray 3x4 @cpu(0)>"
      ]
     },
     "execution_count": 5,
     "metadata": {},
     "output_type": "execute_result"
    }
   ],
   "source": [
    "x = nd.ones((3, 4))\n",
    "x"
   ]
  },
  {
   "cell_type": "raw",
   "metadata": {},
   "source": [
    "Often, we’ll want to create arrays whose values are sampled randomly. This is especially common when we intend to use the array as a parameter in a neural network. In this snippet, we initialize with values drawn from a standard normal distribution with zero mean and unit variance."
   ]
  },
  {
   "cell_type": "code",
   "execution_count": 6,
   "metadata": {},
   "outputs": [
    {
     "data": {
      "text/plain": [
       "\n",
       "[[-0.6776515   0.10073948  0.5759544  -0.3469252 ]\n",
       " [-0.22134334 -1.804719   -0.8064291   1.220331  ]\n",
       " [ 2.2323563   0.2007023  -0.5496865  -0.19819015]]\n",
       "<NDArray 3x4 @cpu(0)>"
      ]
     },
     "execution_count": 6,
     "metadata": {},
     "output_type": "execute_result"
    }
   ],
   "source": [
    "y = nd.random_normal(0, 1, shape=(3, 4))\n",
    "y"
   ]
  },
  {
   "cell_type": "raw",
   "metadata": {},
   "source": [
    "As in NumPy, the dimensions of each NDArray are accessible via the .shape attribute."
   ]
  },
  {
   "cell_type": "code",
   "execution_count": 7,
   "metadata": {},
   "outputs": [
    {
     "data": {
      "text/plain": [
       "(3L, 4L)"
      ]
     },
     "execution_count": 7,
     "metadata": {},
     "output_type": "execute_result"
    }
   ],
   "source": [
    "y.shape"
   ]
  },
  {
   "cell_type": "raw",
   "metadata": {},
   "source": [
    "We can also query its size, which is equal to the product of the components of the shape. Together with the precision of the stored values, this tells us how much memory the array occupies."
   ]
  },
  {
   "cell_type": "code",
   "execution_count": 8,
   "metadata": {},
   "outputs": [
    {
     "data": {
      "text/plain": [
       "12L"
      ]
     },
     "execution_count": 8,
     "metadata": {},
     "output_type": "execute_result"
    }
   ],
   "source": [
    "y.size"
   ]
  },
  {
   "cell_type": "markdown",
   "metadata": {},
   "source": [
    "## NDArray supports a large number of standard mathematical operations."
   ]
  },
  {
   "cell_type": "code",
   "execution_count": 9,
   "metadata": {},
   "outputs": [
    {
     "name": "stdout",
     "output_type": "stream",
     "text": [
      "Additions\n",
      "\n",
      "[[ 0.32234848  1.1007395   1.5759544   0.6530748 ]\n",
      " [ 0.77865666 -0.804719    0.19357091  2.220331  ]\n",
      " [ 3.2323563   1.2007023   0.4503135   0.80180985]]\n",
      "<NDArray 3x4 @cpu(0)>\n",
      "------------------------------------------------------------------------------------\n",
      "Multiplication\n",
      "\n",
      "[[-0.6776515   0.10073948  0.5759544  -0.3469252 ]\n",
      " [-0.22134334 -1.804719   -0.8064291   1.220331  ]\n",
      " [ 2.2323563   0.2007023  -0.5496865  -0.19819015]]\n",
      "<NDArray 3x4 @cpu(0)>\n",
      "------------------------------------------------------------------------------------\n",
      "Exponentiation\n",
      "\n",
      "[[0.50780815 1.1059885  1.7788274  0.7068582 ]\n",
      " [0.8014415  0.16452068 0.44644946 3.388309  ]\n",
      " [9.321805   1.2222608  0.57713073 0.82021385]]\n",
      "<NDArray 3x4 @cpu(0)>\n",
      "------------------------------------------------------------------------------------\n",
      "Dot product\n",
      "\n",
      "[[-0.34788287 -1.6121604   1.6851819 ]\n",
      " [-0.34788287 -1.6121604   1.6851819 ]\n",
      " [-0.34788287 -1.6121604   1.6851819 ]]\n",
      "<NDArray 3x3 @cpu(0)>\n",
      "------------------------------------------------------------------------------------\n"
     ]
    }
   ],
   "source": [
    "print('Additions')\n",
    "print(x+y)\n",
    "print('------------------------------------------------------------------------------------')\n",
    "print('Multiplication')\n",
    "print(x*y)\n",
    "print('------------------------------------------------------------------------------------')\n",
    "print('Exponentiation')\n",
    "print(nd.exp(y))\n",
    "print('------------------------------------------------------------------------------------')\n",
    "print('Dot product')\n",
    "print(nd.dot(x, y.T))\n",
    "print('------------------------------------------------------------------------------------')"
   ]
  },
  {
   "cell_type": "markdown",
   "metadata": {},
   "source": [
    "## In-place operations"
   ]
  },
  {
   "cell_type": "raw",
   "metadata": {},
   "source": [
    "In the previous example, every time we ran an operation, we allocated new memory to host its results. For example, if we write y = x + y, we will dereference the matrix that y used to point to and instead point it at the newly allocated memory. In the following example we demonstrate this with Python’s id() function, which gives us the exact address of the referenced object in memory. After running y = y + x, we’ll find that id(y) points to a different location. That’s because Python first evaluates y + x, allocating new memory for the result and then subsequently redirects y to point at this new location in memory."
   ]
  },
  {
   "cell_type": "code",
   "execution_count": 10,
   "metadata": {},
   "outputs": [
    {
     "name": "stdout",
     "output_type": "stream",
     "text": [
      "('id(y):', 139797900293072)\n",
      "('id(y):', 139797900293328)\n"
     ]
    }
   ],
   "source": [
    "print('id(y):', id(y))\n",
    "y = y + x\n",
    "print('id(y):', id(y))"
   ]
  },
  {
   "cell_type": "raw",
   "metadata": {},
   "source": [
    "This might be undesirable for two reasons. First, we don’t want to run around allocating memory unnecessarily all the time. In machine learning, we might have hundreds of megabytes of paramaters and update all of them multiple times per second. Typically, we’ll want to perform these updates in place. Second, we might point at the same parameters from multiple variables. If we don’t update in place, this could cause a memory leak, and could cause us to inadvertently reference stale parameters.\n",
    "\n",
    "Fortunately, performing in-place operations in MXNet is easy. We can assign the result of an operation to a previously allocated array with slice notation, e.g., y[:] = <expression>"
   ]
  },
  {
   "cell_type": "code",
   "execution_count": 11,
   "metadata": {},
   "outputs": [
    {
     "name": "stdout",
     "output_type": "stream",
     "text": [
      "('id(y):', 139797900293328)\n",
      "('id(y):', 139797900293328)\n"
     ]
    }
   ],
   "source": [
    "print('id(y):', id(y))\n",
    "y[:] = x + y\n",
    "print('id(y):', id(y))"
   ]
  },
  {
   "cell_type": "raw",
   "metadata": {},
   "source": [
    "While this syntacically nice, x+y here will still allocate a temporary buffer to store the result before copying it to y[:]. To make even better use of memory, we can directly invoke the underlying ndarray operation, in this case elemwise_add, avoiding temporary buffers. We do this by specifying the out keyword argument, which every ndarray operator supports:"
   ]
  },
  {
   "cell_type": "code",
   "execution_count": 12,
   "metadata": {},
   "outputs": [
    {
     "data": {
      "text/plain": [
       "\n",
       "[[2.3223486 3.1007395 3.5759544 2.6530747]\n",
       " [2.7786567 1.195281  2.1935709 4.220331 ]\n",
       " [5.232356  3.2007022 2.4503136 2.8018098]]\n",
       "<NDArray 3x4 @cpu(0)>"
      ]
     },
     "execution_count": 12,
     "metadata": {},
     "output_type": "execute_result"
    }
   ],
   "source": [
    "nd.elemwise_add(x, y, out=y)"
   ]
  },
  {
   "cell_type": "raw",
   "metadata": {},
   "source": [
    "If we’re not planning to re-use x, then we can assign the result to x itself. There are two ways to do this in MXNet. 1. By using slice notation x[:] = x op y 2. By using the op-equals operators like +="
   ]
  },
  {
   "cell_type": "code",
   "execution_count": 13,
   "metadata": {},
   "outputs": [
    {
     "name": "stdout",
     "output_type": "stream",
     "text": [
      "('id(x):', 139797913094736)\n",
      "('id(x):', 139797913094736)\n"
     ]
    }
   ],
   "source": [
    "print('id(x):', id(x))\n",
    "x += y\n",
    "x\n",
    "print('id(x):', id(x))"
   ]
  },
  {
   "cell_type": "markdown",
   "metadata": {},
   "source": [
    "## Slicing"
   ]
  },
  {
   "cell_type": "raw",
   "metadata": {},
   "source": [
    "MXNet NDArrays support slicing in all the ridiculous ways you might imagine accessing your data. Here’s an example of reading the second and third rows from x."
   ]
  },
  {
   "cell_type": "code",
   "execution_count": 14,
   "metadata": {},
   "outputs": [
    {
     "data": {
      "text/plain": [
       "\n",
       "[[3.7786567 2.195281  3.1935709 5.220331 ]\n",
       " [6.232356  4.200702  3.4503136 3.8018098]]\n",
       "<NDArray 2x4 @cpu(0)>"
      ]
     },
     "execution_count": 14,
     "metadata": {},
     "output_type": "execute_result"
    }
   ],
   "source": [
    "x[1:3]"
   ]
  },
  {
   "cell_type": "raw",
   "metadata": {},
   "source": [
    "Now let’s try writing to a specific element."
   ]
  },
  {
   "cell_type": "code",
   "execution_count": 16,
   "metadata": {},
   "outputs": [
    {
     "data": {
      "text/plain": [
       "\n",
       "[[3.3223486 4.1007395 4.5759544 3.6530747]\n",
       " [3.7786567 2.195281  9.        5.220331 ]\n",
       " [6.232356  4.200702  3.4503136 3.8018098]]\n",
       "<NDArray 3x4 @cpu(0)>"
      ]
     },
     "execution_count": 16,
     "metadata": {},
     "output_type": "execute_result"
    }
   ],
   "source": [
    "x[1,2] = 9.0\n",
    "x"
   ]
  },
  {
   "cell_type": "code",
   "execution_count": null,
   "metadata": {},
   "outputs": [],
   "source": []
  }
 ],
 "metadata": {
  "kernelspec": {
   "display_name": "Python 2",
   "language": "python",
   "name": "python2"
  },
  "language_info": {
   "codemirror_mode": {
    "name": "ipython",
    "version": 2
   },
   "file_extension": ".py",
   "mimetype": "text/x-python",
   "name": "python",
   "nbconvert_exporter": "python",
   "pygments_lexer": "ipython2",
   "version": "2.7.12"
  }
 },
 "nbformat": 4,
 "nbformat_minor": 2
}
